{
 "cells": [
  {
   "cell_type": "code",
   "execution_count": 2,
   "id": "4188ee0e89dd99a5",
   "metadata": {
    "ExecuteTime": {
     "end_time": "2025-05-06T13:32:44.438309Z",
     "start_time": "2025-05-06T13:32:44.431180Z"
    },
    "collapsed": false
   },
   "outputs": [
    {
     "name": "stdout",
     "output_type": "stream",
     "text": [
      "Hello World\n"
     ]
    }
   ],
   "source": [
    "print(\"Hello World\")"
   ]
  },
  {
   "cell_type": "markdown",
   "id": "2ebf562709975ff8",
   "metadata": {
    "collapsed": false
   },
   "source": [
    "使用等号进行赋值（简单回顾）\n",
    "\n",
    "| **赋值类型**       | **描述**                                     | **示例**          |\n",
    "| :----------------- | :------------------------------------------- | :---------------- |\n",
    "| 基本赋值           | 使用等号 (=) 进行赋值。                      | x = 10            |\n",
    "| 同一个值给多个变量 | 可以使用一个值来赋给多个变量。               | x = y = z = 10    |\n",
    "| 多重赋值           | 可以同时给多个变量赋多个值。                 | x, y, z = 1, 2, 3 |\n",
    "| 使用下划线的赋值   | 当不关心某个值时，可用下划线 (_)“丢弃”变量。 | x, _ = 1, 2       |\n",
    "\n"
   ]
  },
  {
   "cell_type": "code",
   "execution_count": 3,
   "id": "51600edcd10070ce",
   "metadata": {
    "ExecuteTime": {
     "end_time": "2025-05-06T13:25:42.873814Z",
     "start_time": "2025-05-06T13:25:42.870121Z"
    },
    "collapsed": false
   },
   "outputs": [
    {
     "name": "stdout",
     "output_type": "stream",
     "text": [
      "10\n",
      "10 10\n",
      "1 2 3\n",
      "1\n"
     ]
    }
   ],
   "source": [
    "# 基本赋值\n",
    "x = 10\n",
    "print(x)\n",
    "\n",
    "# 同一个值给多个变量\n",
    "y = z = 10\n",
    "print(y, z)\n",
    "\n",
    "# 多重赋值\n",
    "x, y, z = 1, 2, 3\n",
    "print(x, y, z)\n",
    "\n",
    "# 使用下划线的赋值\n",
    "x, _ = 1, 2\n",
    "print(x)"
   ]
  },
  {
   "cell_type": "markdown",
   "id": "c95804d1bc5b0b73",
   "metadata": {
    "collapsed": false
   },
   "source": [
    "| **运算符** | **描述** | **示例**                   |\n",
    "| :--------- | :------- | :------------------------- |\n",
    "| +          | 加法     | 5 + 3 = 8                  |\n",
    "| -          | 减法     | 5 – 3 = 2                  |\n",
    "| *          | 乘法     | 5 * 3 = 15                 |\n",
    "| /          | 触发     | 5 / 3 = 1.6666666666666667 |\n",
    "| //         | 整数除法 | 5 // 3 = 1                 |\n",
    "| %          | 求余数   | 5 % 3 = 2                  |\n",
    "| **         | 幂运算   | 5 ** 3 = 125               |\n",
    "\n"
   ]
  },
  {
   "cell_type": "code",
   "execution_count": null,
   "id": "58fc864af19ca4ab",
   "metadata": {
    "collapsed": false
   },
   "outputs": [],
   "source": []
  }
 ],
 "metadata": {
  "kernelspec": {
   "display_name": "Python 3 (ipykernel)",
   "language": "python",
   "name": "python3"
  },
  "language_info": {
   "codemirror_mode": {
    "name": "ipython",
    "version": 3
   },
   "file_extension": ".py",
   "mimetype": "text/x-python",
   "name": "python",
   "nbconvert_exporter": "python",
   "pygments_lexer": "ipython3",
   "version": "3.10.16"
  }
 },
 "nbformat": 4,
 "nbformat_minor": 5
}
