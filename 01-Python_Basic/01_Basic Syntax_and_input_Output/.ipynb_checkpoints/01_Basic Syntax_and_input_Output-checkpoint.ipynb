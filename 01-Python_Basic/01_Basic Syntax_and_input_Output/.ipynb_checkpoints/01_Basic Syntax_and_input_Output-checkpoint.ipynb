{
 "cells": [
  {
   "cell_type": "code",
   "outputs": [
    {
     "data": {
      "text/plain": "{'cell_type': 'code',\n 'id': 'some_unique_id',\n 'metadata': {},\n 'outputs': [],\n 'source': ['x = 10\\n', 'print(x)\\n']}"
     },
     "execution_count": 6,
     "metadata": {},
     "output_type": "execute_result"
    }
   ],
   "source": [
    "{\n",
    "  \"cell_type\": \"code\",\n",
    "  \"id\": \"some_unique_id\",\n",
    "  \"metadata\": {},\n",
    "  \"outputs\": [],\n",
    "  \"source\": [\n",
    "    \"x = 10\\n\",\n",
    "    \"print(x)\\n\"\n",
    "  ]\n",
    "}\n"
   ],
   "metadata": {
    "collapsed": false,
    "ExecuteTime": {
     "end_time": "2025-05-06T13:28:18.388765Z",
     "start_time": "2025-05-06T13:28:18.381275Z"
    }
   },
   "id": "e84cf64cf6853601",
   "execution_count": 6
  },
  {
   "cell_type": "code",
   "outputs": [],
   "source": [],
   "metadata": {
    "collapsed": false,
    "ExecuteTime": {
     "end_time": "2025-05-06T13:28:35.024209Z",
     "start_time": "2025-05-06T13:28:35.021571Z"
    }
   },
   "id": "1ae35ccca02ecb18",
   "execution_count": 7
  },
  {
   "cell_type": "code",
   "outputs": [
    {
     "name": "stdout",
     "output_type": "stream",
     "text": [
      "Hello World\n"
     ]
    }
   ],
   "source": [
    "print(\"Hello World\")"
   ],
   "metadata": {
    "collapsed": false,
    "ExecuteTime": {
     "end_time": "2025-05-06T13:32:44.438309Z",
     "start_time": "2025-05-06T13:32:44.431180Z"
    }
   },
   "id": "4188ee0e89dd99a5",
   "execution_count": 1
  },
  {
   "cell_type": "markdown",
   "source": [
    "使用等号进行赋值（简单回顾）\n",
    "\n",
    "| **赋值类型**       | **描述**                                     | **示例**          |\n",
    "| :----------------- | :------------------------------------------- | :---------------- |\n",
    "| 基本赋值           | 使用等号 (=) 进行赋值。                      | x = 10            |\n",
    "| 同一个值给多个变量 | 可以使用一个值来赋给多个变量。               | x = y = z = 10    |\n",
    "| 多重赋值           | 可以同时给多个变量赋多个值。                 | x, y, z = 1, 2, 3 |\n",
    "| 使用下划线的赋值   | 当不关心某个值时，可用下划线 (_)“丢弃”变量。 | x, _ = 1, 2       |\n",
    "\n"
   ],
   "metadata": {
    "collapsed": false
   },
   "id": "2ebf562709975ff8"
  },
  {
   "cell_type": "code",
   "outputs": [
    {
     "name": "stdout",
     "output_type": "stream",
     "text": [
      "10\n",
      "10 10\n",
      "1 2 3\n",
      "1\n"
     ]
    }
   ],
   "source": [
    "# 基本赋值\n",
    "x = 10\n",
    "print(x)\n",
    "\n",
    "# 同一个值给多个变量\n",
    "y = z = 10\n",
    "print(y, z)\n",
    "\n",
    "# 多重赋值\n",
    "x, y, z = 1, 2, 3\n",
    "print(x, y, z)\n",
    "\n",
    "# 使用下划线的赋值\n",
    "x, _ = 1, 2\n",
    "print(x)"
   ],
   "metadata": {
    "collapsed": false,
    "ExecuteTime": {
     "end_time": "2025-05-06T13:25:42.873814Z",
     "start_time": "2025-05-06T13:25:42.870121Z"
    }
   },
   "id": "51600edcd10070ce",
   "execution_count": 5
  },
  {
   "cell_type": "markdown",
   "source": [
    "| **运算符** | **描述** | **示例**                   |\n",
    "| :--------- | :------- | :------------------------- |\n",
    "| +          | 加法     | 5 + 3 = 8                  |\n",
    "| -          | 减法     | 5 – 3 = 2                  |\n",
    "| *          | 乘法     | 5 * 3 = 15                 |\n",
    "| /          | 触发     | 5 / 3 = 1.6666666666666667 |\n",
    "| //         | 整数除法 | 5 // 3 = 1                 |\n",
    "| %          | 求余数   | 5 % 3 = 2                  |\n",
    "| **         | 幂运算   | 5 ** 3 = 125               |\n",
    "\n"
   ],
   "metadata": {
    "collapsed": false
   },
   "id": "c95804d1bc5b0b73"
  },
  {
   "cell_type": "code",
   "outputs": [],
   "source": [],
   "metadata": {
    "collapsed": false
   },
   "id": "58fc864af19ca4ab"
  }
 ],
 "metadata": {
  "kernelspec": {
   "display_name": "Python 3",
   "language": "python",
   "name": "python3"
  },
  "language_info": {
   "codemirror_mode": {
    "name": "ipython",
    "version": 2
   },
   "file_extension": ".py",
   "mimetype": "text/x-python",
   "name": "python",
   "nbconvert_exporter": "python",
   "pygments_lexer": "ipython2",
   "version": "2.7.6"
  }
 },
 "nbformat": 4,
 "nbformat_minor": 5
}
